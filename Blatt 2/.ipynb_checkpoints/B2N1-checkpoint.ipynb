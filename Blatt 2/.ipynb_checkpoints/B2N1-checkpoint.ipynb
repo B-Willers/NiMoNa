{
 "cells": [
  {
   "cell_type": "code",
   "execution_count": 2,
   "metadata": {},
   "outputs": [
    {
     "data": {
      "image/png": "[encoded data removed]",
      "text/plain": [
       "<Figure size 432x288 with 1 Axes>"
      ]
     },
     "metadata": {
      "needs_background": "light"
     },
     "output_type": "display_data"
    }
   ],
   "source": [
    "import matplotlib.pyplot as plt\n",
    "r = 20\n",
    "h = 0.1\n",
    "K = 100\n",
    "N = 5\n",
    "t = 0\n",
    "def N_ew(N_old):\n",
    "    return r*N_old*(1-(N_old/K))\n",
    "while t<=(5*h):\n",
    "    plt.plot(t,N,'bo')\n",
    "    N=N+h*N_ew(N)\n",
    "    t=t+h"
   ]
  }
 ],
 "metadata": {
  "kernelspec": {
   "display_name": "Python 3",
   "language": "python",
   "name": "python3"
  },
  "language_info": {
   "codemirror_mode": {
    "name": "ipython",
    "version": 3
   },
   "file_extension": ".py",
   "mimetype": "text/x-python",
   "name": "python",
   "nbconvert_exporter": "python",
   "pygments_lexer": "ipython3",
   "version": "3.7.0"
  }
 },
 "nbformat": 4,
 "nbformat_minor": 2
}
